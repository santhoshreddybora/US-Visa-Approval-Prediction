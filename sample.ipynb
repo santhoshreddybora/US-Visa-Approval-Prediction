{
 "cells": [
  {
   "cell_type": "code",
   "execution_count": 14,
   "metadata": {},
   "outputs": [
    {
     "name": "stdout",
     "output_type": "stream",
     "text": [
      "['pandas ', 'numpy', 'matplotlib', 'Scikit-learn']\n"
     ]
    }
   ],
   "source": [
    "with open('requirements.txt','r') as r:\n",
    "    requirements = r.read().split('\\n')\n",
    "    if '-e .' in requirements:\n",
    "        requirements.remove('-e .')\n",
    "    print(requirements)"
   ]
  },
  {
   "cell_type": "code",
   "execution_count": 4,
   "metadata": {},
   "outputs": [
    {
     "data": {
      "text/plain": [
       "'e:\\\\Vscode\\\\MLOPS-1\\\\US-Visa-Approval-Prediction\\\\Logs\\\\2024-02-23-11-48-35.log'"
      ]
     },
     "execution_count": 4,
     "metadata": {},
     "output_type": "execute_result"
    }
   ],
   "source": [
    "import os\n",
    "from datetime import datetime\n",
    "import logging\n",
    "log_file=f\"{datetime.now().strftime('%Y-%m-%d-%H-%M-%S')}.log\"\n",
    "logs_path=os.path.join(os.getcwd(), 'Logs',log_file)\n",
    "l"
   ]
  }
 ],
 "metadata": {
  "kernelspec": {
   "display_name": "base",
   "language": "python",
   "name": "python3"
  },
  "language_info": {
   "codemirror_mode": {
    "name": "ipython",
    "version": 3
   },
   "file_extension": ".py",
   "mimetype": "text/x-python",
   "name": "python",
   "nbconvert_exporter": "python",
   "pygments_lexer": "ipython3",
   "version": "3.11.5"
  }
 },
 "nbformat": 4,
 "nbformat_minor": 2
}
